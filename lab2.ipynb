{
  "nbformat": 4,
  "nbformat_minor": 0,
  "metadata": {
    "colab": {
      "provenance": [],
      "authorship_tag": "ABX9TyMdy+kJ6FrjN36jB/opC6xu",
      "include_colab_link": true
    },
    "kernelspec": {
      "name": "python3",
      "display_name": "Python 3"
    },
    "language_info": {
      "name": "python"
    }
  },
  "cells": [
    {
      "cell_type": "markdown",
      "metadata": {
        "id": "view-in-github",
        "colab_type": "text"
      },
      "source": [
        "<a href=\"https://colab.research.google.com/github/petergaveglia/imc2023-gaveglia/blob/main/lab2.ipynb\" target=\"_parent\"><img src=\"https://colab.research.google.com/assets/colab-badge.svg\" alt=\"Open In Colab\"/></a>"
      ]
    },
    {
      "cell_type": "code",
      "execution_count": 1,
      "metadata": {
        "colab": {
          "base_uri": "https://localhost:8080/"
        },
        "id": "X64AZaORb_5X",
        "outputId": "bb14af1b-ff88-459c-8b42-58e9fd2c76ed"
      },
      "outputs": [
        {
          "output_type": "stream",
          "name": "stdout",
          "text": [
            "Cloning into 'imc2023'...\n",
            "remote: Enumerating objects: 98, done.\u001b[K\n",
            "remote: Counting objects: 100% (98/98), done.\u001b[K\n",
            "remote: Compressing objects: 100% (93/93), done.\u001b[K\n",
            "remote: Total 98 (delta 39), reused 14 (delta 1), pack-reused 0\u001b[K\n",
            "Unpacking objects: 100% (98/98), 8.86 MiB | 3.81 MiB/s, done.\n"
          ]
        }
      ],
      "source": [
        "import numpy as np\n",
        "import matplotlib.pylab as plt\n",
        "import librosa.display\n",
        "import IPython.display\n",
        "import librosa\n",
        "\n",
        "#import audio files\n",
        "!git clone https://github.com/jcdevaney/imc2023.git"
      ]
    },
    {
      "cell_type": "code",
      "source": [
        "def plotAudio2(sig,sampleRate,title):\n",
        "    \n",
        "    # this version expects the audio file to have already been opened by librosa\n",
        "    \n",
        "    # Adjust the x-axis to represent time\n",
        "    time=np.arange(0,sig.shape[0])/sr\n",
        "    \n",
        "    # Scale the y-axis to represent amplitude from -1 to 1\n",
        "    excursion=max(abs(sig))\n",
        "    sigNew = sig / excursion\n",
        "    \n",
        "    # Label the x and y axes with variables\n",
        "    xlabel = 'Time (seconds)'\n",
        "    ylabel = 'Amplitude'\n",
        "\n",
        "    # Plot the signal using the x and y axis variables    \n",
        "    plt.plot(time,sigNew)\n",
        "    plt.xlabel(xlabel)\n",
        "    plt.ylabel(ylabel)\n",
        "    plt.title(title)\n",
        "    plt.show()"
      ],
      "metadata": {
        "id": "l-fIBdHmcqOD"
      },
      "execution_count": 3,
      "outputs": []
    },
    {
      "cell_type": "code",
      "source": [
        "def makeEchoes(sig,sr,sec,echoes):\n",
        "\n",
        "    #calculate the number of bytes which corresponds to the offset in milliseconds\n",
        "    offset=int(sr*sec)\n",
        "    \n",
        "    #add extra space at the end for the delays\n",
        "    ending = np.zeros((offset*(len(echoes))))\n",
        "    \n",
        "    delayedSig = np.concatenate((sig,ending))\n",
        "    \n",
        "    for i in range(len(echoes)):\n",
        "        \n",
        "        #create some silence\n",
        "        # python indexes starting with zero which is why you need to add one\n",
        "        beginning = np.zeros(offset*(i+1))\n",
        "        \n",
        "        #create delayed version of signal\n",
        "        delay = np.concatenate((beginning,sig))\n",
        "        delay = delay * echoes[i]\n",
        "\n",
        "        #pad the end of delay with zeros to make it the same length as delaysedSig\n",
        "        delay = np.concatenate((delay,np.zeros((delayedSig.size-delay.size))))\n",
        "        \n",
        "        # combine with output signal\n",
        "        delayedSig = delayedSig + delay\n",
        "    \n",
        "    return delayedSig"
      ],
      "metadata": {
        "id": "jT7MQqTRcp-L"
      },
      "execution_count": 4,
      "outputs": []
    },
    {
      "cell_type": "code",
      "source": [
        "plotAudio3()\n",
        "subplots()\n",
        "makeEchoes()\n",
        "amplitudeModulation()"
      ],
      "metadata": {
        "colab": {
          "base_uri": "https://localhost:8080/",
          "height": 222
        },
        "id": "5oIlC-8scwJc",
        "outputId": "40efbcc6-37f2-4075-96c9-05b62b667c41"
      },
      "execution_count": 5,
      "outputs": [
        {
          "output_type": "error",
          "ename": "NameError",
          "evalue": "ignored",
          "traceback": [
            "\u001b[0;31m---------------------------------------------------------------------------\u001b[0m",
            "\u001b[0;31mNameError\u001b[0m                                 Traceback (most recent call last)",
            "\u001b[0;32m<ipython-input-5-f0240258fa96>\u001b[0m in \u001b[0;36m<module>\u001b[0;34m\u001b[0m\n\u001b[0;32m----> 1\u001b[0;31m \u001b[0mplotAudio3\u001b[0m\u001b[0;34m(\u001b[0m\u001b[0;34m)\u001b[0m\u001b[0;34m\u001b[0m\u001b[0;34m\u001b[0m\u001b[0m\n\u001b[0m\u001b[1;32m      2\u001b[0m \u001b[0msubplots\u001b[0m\u001b[0;34m(\u001b[0m\u001b[0;34m)\u001b[0m\u001b[0;34m\u001b[0m\u001b[0;34m\u001b[0m\u001b[0m\n\u001b[1;32m      3\u001b[0m \u001b[0mmakeEchoes\u001b[0m\u001b[0;34m(\u001b[0m\u001b[0;34m)\u001b[0m\u001b[0;34m\u001b[0m\u001b[0;34m\u001b[0m\u001b[0m\n\u001b[1;32m      4\u001b[0m \u001b[0mamplitudeModulation\u001b[0m\u001b[0;34m(\u001b[0m\u001b[0;34m)\u001b[0m\u001b[0;34m\u001b[0m\u001b[0;34m\u001b[0m\u001b[0m\n",
            "\u001b[0;31mNameError\u001b[0m: name 'plotAudio3' is not defined"
          ]
        }
      ]
    }
  ]
}