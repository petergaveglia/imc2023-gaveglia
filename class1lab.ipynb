{
  "nbformat": 4,
  "nbformat_minor": 0,
  "metadata": {
    "colab": {
      "provenance": [],
      "authorship_tag": "ABX9TyM6QV0Bb/x4O35mulU5JlY2",
      "include_colab_link": true
    },
    "kernelspec": {
      "name": "python3",
      "display_name": "Python 3"
    },
    "language_info": {
      "name": "python"
    }
  },
  "cells": [
    {
      "cell_type": "markdown",
      "metadata": {
        "id": "view-in-github",
        "colab_type": "text"
      },
      "source": [
        "<a href=\"https://colab.research.google.com/github/petergaveglia/imc2023-gaveglia/blob/main/class1lab.ipynb\" target=\"_parent\"><img src=\"https://colab.research.google.com/assets/colab-badge.svg\" alt=\"Open In Colab\"/></a>"
      ]
    },
    {
      "cell_type": "code",
      "execution_count": 2,
      "metadata": {
        "id": "n7u0K4x3IS8k"
      },
      "outputs": [],
      "source": [
        "fundamental = 55"
      ]
    },
    {
      "cell_type": "code",
      "source": [
        "print(fundamental)"
      ],
      "metadata": {
        "colab": {
          "base_uri": "https://localhost:8080/"
        },
        "id": "cz87GXA-OkRo",
        "outputId": "f247c6e1-e149-4ca8-cbc0-3f1154fcd4d3"
      },
      "execution_count": 6,
      "outputs": [
        {
          "output_type": "stream",
          "name": "stdout",
          "text": [
            "55\n"
          ]
        }
      ]
    },
    {
      "cell_type": "code",
      "source": [
        "firstPartial = 55 * 2\n",
        "print(firstPartial)"
      ],
      "metadata": {
        "colab": {
          "base_uri": "https://localhost:8080/"
        },
        "id": "dy2YHXZ-OshE",
        "outputId": "e108bb09-d0c1-4fc0-dee4-8d7e7e2e799c"
      },
      "execution_count": 7,
      "outputs": [
        {
          "output_type": "stream",
          "name": "stdout",
          "text": [
            "110\n"
          ]
        }
      ]
    },
    {
      "cell_type": "code",
      "source": [
        "secondPartial = 55 * 3\n",
        "print(secondPartial)"
      ],
      "metadata": {
        "colab": {
          "base_uri": "https://localhost:8080/"
        },
        "id": "bdfA6x78O7lS",
        "outputId": "f018fd46-44e5-424b-8e08-563425a10605"
      },
      "execution_count": 9,
      "outputs": [
        {
          "output_type": "stream",
          "name": "stdout",
          "text": [
            "165\n"
          ]
        }
      ]
    },
    {
      "cell_type": "code",
      "source": [
        "thirdPartial = 55 * 4\n",
        "print (thirdPartial)"
      ],
      "metadata": {
        "colab": {
          "base_uri": "https://localhost:8080/"
        },
        "id": "tawATwt8P9S9",
        "outputId": "b6ec113f-080e-4d52-8694-00845fcd1e9e"
      },
      "execution_count": 10,
      "outputs": [
        {
          "output_type": "stream",
          "name": "stdout",
          "text": [
            "220\n"
          ]
        }
      ]
    },
    {
      "cell_type": "code",
      "source": [
        "fourthPartial = 55 * 5\n",
        "print(fourthPartial)"
      ],
      "metadata": {
        "colab": {
          "base_uri": "https://localhost:8080/"
        },
        "id": "DGEer1p6QDrV",
        "outputId": "faadf1e9-c7d3-4b7a-a119-7fb192df2e77"
      },
      "execution_count": 11,
      "outputs": [
        {
          "output_type": "stream",
          "name": "stdout",
          "text": [
            "275\n"
          ]
        }
      ]
    },
    {
      "cell_type": "code",
      "source": [
        "fifthPartial = 55 * 6 \n",
        "print(fifthPartial)"
      ],
      "metadata": {
        "colab": {
          "base_uri": "https://localhost:8080/"
        },
        "id": "7gusoDL4QKwu",
        "outputId": "6c84bf44-49f8-4cf0-aca7-282c56df98db"
      },
      "execution_count": 12,
      "outputs": [
        {
          "output_type": "stream",
          "name": "stdout",
          "text": [
            "330\n"
          ]
        }
      ]
    },
    {
      "cell_type": "code",
      "source": [
        "sixthPartial = 55 * 7\n",
        "print(sixthPartial)"
      ],
      "metadata": {
        "colab": {
          "base_uri": "https://localhost:8080/"
        },
        "id": "lshjTpscQPGc",
        "outputId": "257ba1ea-b60a-4a90-ca1b-171fd49332bc"
      },
      "execution_count": 14,
      "outputs": [
        {
          "output_type": "stream",
          "name": "stdout",
          "text": [
            "385\n"
          ]
        }
      ]
    },
    {
      "cell_type": "code",
      "source": [
        "import math\n",
        "cents = math.log(3/2) * 1200 / math.log(2)\n",
        "print(cents)"
      ],
      "metadata": {
        "colab": {
          "base_uri": "https://localhost:8080/"
        },
        "id": "6oyWHNAaQT5n",
        "outputId": "efe9856c-eabe-45b9-d094-e01a6becaf9f"
      },
      "execution_count": 18,
      "outputs": [
        {
          "output_type": "stream",
          "name": "stdout",
          "text": [
            "701.9550008653874\n"
          ]
        }
      ]
    },
    {
      "cell_type": "code",
      "source": [
        "cents = math.log(165/110) * 1200 / math.log(2)\n",
        "print(cents)"
      ],
      "metadata": {
        "colab": {
          "base_uri": "https://localhost:8080/"
        },
        "id": "_D7s_EtjSQYK",
        "outputId": "0b4356ba-4687-4ca4-e2d0-d0f5ba7aaf7e"
      },
      "execution_count": 24,
      "outputs": [
        {
          "output_type": "stream",
          "name": "stdout",
          "text": [
            "701.9550008653874\n"
          ]
        }
      ]
    },
    {
      "cell_type": "code",
      "source": [
        "cents = math.log(330/220) * 1200 / math.log(2)\n",
        "print(cents)"
      ],
      "metadata": {
        "colab": {
          "base_uri": "https://localhost:8080/"
        },
        "id": "fCb8B3KpTqip",
        "outputId": "864ff479-dd30-4820-871e-a1ddd1b390cb"
      },
      "execution_count": 25,
      "outputs": [
        {
          "output_type": "stream",
          "name": "stdout",
          "text": [
            "701.9550008653874\n"
          ]
        }
      ]
    },
    {
      "cell_type": "code",
      "source": [],
      "metadata": {
        "id": "-6M4df8EVVT5"
      },
      "execution_count": null,
      "outputs": []
    }
  ]
}